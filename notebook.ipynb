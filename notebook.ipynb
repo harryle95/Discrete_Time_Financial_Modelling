{
 "cells": [
  {
   "cell_type": "code",
   "execution_count": 1,
   "metadata": {},
   "outputs": [],
   "source": [
    "from math import sqrt, log \n",
    "from src.models import * \n",
    "from src.multi_steps import MultiStepModel\n",
    "from src.helpers import calculate_BS_Call\n"
   ]
  },
  {
   "cell_type": "code",
   "execution_count": 2,
   "metadata": {},
   "outputs": [],
   "source": [
    "from scipy.optimize import root_scalar"
   ]
  },
  {
   "cell_type": "code",
   "execution_count": 6,
   "metadata": {},
   "outputs": [
    {
     "name": "stdout",
     "output_type": "stream",
     "text": [
      "0.42479181360153123\n"
     ]
    }
   ],
   "source": [
    "S = 10 \n",
    "K = 8 \n",
    "T = 0.5 \n",
    "r = 0.05 \n",
    "C = 2.5 \n",
    "\n",
    "def wrapper(sigma):\n",
    "    return calculate_BS_Call(S, K, r, T, sigma) - C\n",
    "\n",
    "sol = root_scalar(wrapper, bracket=[0.0001, 3], method=\"brentq\")\n",
    "print(sol.root)"
   ]
  },
  {
   "cell_type": "code",
   "execution_count": 7,
   "metadata": {},
   "outputs": [
    {
     "name": "stdout",
     "output_type": "stream",
     "text": [
      "0.235789253168372\n"
     ]
    }
   ],
   "source": [
    "C = 1.660\n",
    "S = 39.540\n",
    "T = 0.21\n",
    "K = 40 \n",
    "R = 1.045 \n",
    "r = log(R)\n",
    "\n",
    "def wrapper(sigma):\n",
    "    return calculate_BS_Call(S, K, r, T, sigma) - C\n",
    "\n",
    "sol = root_scalar(wrapper, bracket=[0.0001, 3], method=\"brentq\")\n",
    "print(sol.root)"
   ]
  },
  {
   "cell_type": "code",
   "execution_count": 9,
   "metadata": {},
   "outputs": [
    {
     "data": {
      "text/plain": [
       "3.4786853554836368"
      ]
     },
     "execution_count": 9,
     "metadata": {},
     "output_type": "execute_result"
    }
   ],
   "source": [
    "model = MultiStepModel(CRRAssetParams(20, 1.1, 1/1.1, 4), DerivativeParams(19, 4, \"call\"), 1.03)\n",
    "model.premium"
   ]
  },
  {
   "cell_type": "code",
   "execution_count": null,
   "metadata": {},
   "outputs": [],
   "source": []
  }
 ],
 "metadata": {
  "kernelspec": {
   "display_name": ".venv",
   "language": "python",
   "name": "python3"
  },
  "language_info": {
   "codemirror_mode": {
    "name": "ipython",
    "version": 3
   },
   "file_extension": ".py",
   "mimetype": "text/x-python",
   "name": "python",
   "nbconvert_exporter": "python",
   "pygments_lexer": "ipython3",
   "version": "3.11.8"
  }
 },
 "nbformat": 4,
 "nbformat_minor": 2
}
