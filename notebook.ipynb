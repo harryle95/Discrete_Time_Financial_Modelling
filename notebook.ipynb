{
  "cells": [
    {
      "cell_type": "code",
      "execution_count": 1,
      "metadata": {},
      "outputs": [],
      "source": [
        "from src.helpers import put_call_parity, calculate_BS_R\n",
        "from src.AssetOptionSolver import AssetOptionSolver "
      ]
    },
    {
      "cell_type": "code",
      "execution_count": 2,
      "metadata": {},
      "outputs": [
        {
          "data": {
            "text/plain": [
              "6.850053399786403"
            ]
          },
          "execution_count": 2,
          "metadata": {},
          "output_type": "execute_result"
        }
      ],
      "source": [
        "# Question2 \n",
        "P = 1.2 \n",
        "K = 15 \n",
        "T = 2 \n",
        "S = 19 \n",
        "R = 1.06 \n",
        "\n",
        "parity = put_call_parity(S, K, R, T)\n",
        "\n",
        "C = parity + P \n",
        "C"
      ]
    },
    {
      "cell_type": "code",
      "execution_count": 3,
      "metadata": {},
      "outputs": [
        {
          "data": {
            "text/plain": [
              "0.9547523899993706"
            ]
          },
          "execution_count": 3,
          "metadata": {},
          "output_type": "execute_result"
        }
      ],
      "source": [
        "model = AssetOptionSolver(expire=10, S=15, u=1.02, d=0.97, strike=14, type=\"call\", interest_value=1.0)\n",
        "model.derivative[10, 6]"
      ]
    },
    {
      "cell_type": "code",
      "execution_count": 4,
      "metadata": {},
      "outputs": [
        {
          "name": "stdout",
          "output_type": "stream",
          "text": [
            "0.2192176944245949\n",
            "0.21921769442459493\n"
          ]
        }
      ],
      "source": [
        "derivative = [0, 0, 1, 0, 0, 0]\n",
        "pi = 0.6\n",
        "R = 1.01 \n",
        "model = AssetOptionSolver(expire=5, asset_states={0:[0]}, derivative_states={5: derivative}, interest_value=R, pi_value=pi)\n",
        "print(model.premium_state_price)\n",
        "print(model.premium)\n"
      ]
    },
    {
      "cell_type": "code",
      "execution_count": 8,
      "metadata": {},
      "outputs": [
        {
          "data": {
            "text/plain": [
              "0.1652892561983472"
            ]
          },
          "execution_count": 8,
          "metadata": {},
          "output_type": "execute_result"
        }
      ],
      "source": [
        "T = 2 \n",
        "type = \"put\"\n",
        "K = 18 \n",
        "R = 1.1\n",
        "pi = 2/3\n",
        "asset = {0: [20.0], 1: [18, 24], 2: [16.20, 21.60, 28.80]}\n",
        "model = AssetOptionSolver(expire=T, asset_states=asset, strike=K,type=type,interest_value=R, pi_value=pi)\n",
        "model.premium\n"
      ]
    },
    {
      "cell_type": "code",
      "execution_count": 6,
      "metadata": {},
      "outputs": [
        {
          "data": {
            "text/plain": [
              "1.004294911092786"
            ]
          },
          "execution_count": 6,
          "metadata": {},
          "output_type": "execute_result"
        }
      ],
      "source": [
        "T_month = 3 \n",
        "r_annual = 12/100 \n",
        "N = 7 \n",
        "R = calculate_BS_R(r_annual, T_month/12, N)\n",
        "R"
      ]
    },
    {
      "cell_type": "code",
      "execution_count": 7,
      "metadata": {},
      "outputs": [
        {
          "data": {
            "text/plain": [
              "0.6400000000000001"
            ]
          },
          "execution_count": 7,
          "metadata": {},
          "output_type": "execute_result"
        }
      ],
      "source": [
        "R = {0: [1.04], 1: [1.08, 1.02]}\n",
        "S = {0: [12], 1: [7, 14], 2: [5, 9, 17]}\n",
        "T = 2 \n",
        "model = AssetOptionSolver(expire=T, asset_states=S, interest_states=R, derivative_states={0: [0], 2: [0, 0, 0]})\n",
        "model.pi[1,0]"
      ]
    },
    {
      "cell_type": "code",
      "execution_count": null,
      "metadata": {},
      "outputs": [],
      "source": []
    }
  ],
  "metadata": {
    "kernelspec": {
      "display_name": ".venv",
      "language": "python",
      "name": "python3"
    },
    "language_info": {
      "codemirror_mode": {
        "name": "ipython",
        "version": 3
      },
      "file_extension": ".py",
      "mimetype": "text/x-python",
      "name": "python",
      "nbconvert_exporter": "python",
      "pygments_lexer": "ipython3",
      "version": "3.11.8"
    }
  },
  "nbformat": 4,
  "nbformat_minor": 2
}
