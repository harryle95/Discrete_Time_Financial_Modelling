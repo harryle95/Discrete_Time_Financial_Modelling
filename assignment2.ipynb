{
 "cells": [
  {
   "cell_type": "code",
   "execution_count": 17,
   "metadata": {},
   "outputs": [],
   "source": [
    "from src.solver import AssetOptionSolver, BarrierAssetOptionSolver, ForexOptionSolver"
   ]
  },
  {
   "cell_type": "markdown",
   "metadata": {},
   "source": [
    "### Question 1"
   ]
  },
  {
   "cell_type": "code",
   "execution_count": 7,
   "metadata": {},
   "outputs": [],
   "source": [
    "K=26\n",
    "S=26\n",
    "u=1.2\n",
    "d=1/u\n",
    "R=1.05\n",
    "T=3\n",
    "B=21\n",
    "barrier_type=\"down and out\""
   ]
  },
  {
   "cell_type": "code",
   "execution_count": 5,
   "metadata": {},
   "outputs": [
    {
     "data": {
      "text/plain": [
       "[array([1.75836139]),\n",
       " array([3.56299545, 0.65778377]),\n",
       " array([6.70634921, 1.68831169, 0.        ]),\n",
       " array([10.9537037 ,  4.33333333,  0.        ,  0.        ])]"
      ]
     },
     "execution_count": 5,
     "metadata": {},
     "output_type": "execute_result"
    }
   ],
   "source": [
    "eu_put = AssetOptionSolver(expire=T,S=S,u=u,d=d,K=K,type=\"put\",style=\"european\",R=R)\n",
    "eu_put.derivative.grid"
   ]
  },
  {
   "cell_type": "code",
   "execution_count": 6,
   "metadata": {},
   "outputs": [
    {
     "data": {
      "text/plain": [
       "[array([2.05849303]),\n",
       " array([4.33333333, 0.65778377]),\n",
       " array([7.94444444, 1.68831169, 0.        ]),\n",
       " array([10.9537037 ,  4.33333333,  0.        ,  0.        ])]"
      ]
     },
     "execution_count": 6,
     "metadata": {},
     "output_type": "execute_result"
    }
   ],
   "source": [
    "us_put = AssetOptionSolver(expire=T,S=S,u=u,d=d,K=K,type=\"put\",style=\"american\",R=R)\n",
    "us_put.derivative.grid"
   ]
  },
  {
   "cell_type": "code",
   "execution_count": 13,
   "metadata": {},
   "outputs": [
    {
     "data": {
      "text/plain": [
       "np.float64(0.7403626901012624)"
      ]
     },
     "execution_count": 13,
     "metadata": {},
     "output_type": "execute_result"
    }
   ],
   "source": [
    "eu_put_barrier = BarrierAssetOptionSolver(expire=T,S=S,u=u,d=d,K=K,type=\"put\",style=\"european\",R=R,B=B,barrier_type=barrier_type)\n",
    "eu_put_barrier.derivative.premium"
   ]
  },
  {
   "cell_type": "code",
   "execution_count": 12,
   "metadata": {},
   "outputs": [
    {
     "data": {
      "text/plain": [
       "np.float64(2.058493033362318)"
      ]
     },
     "execution_count": 12,
     "metadata": {},
     "output_type": "execute_result"
    }
   ],
   "source": [
    "us_put_barrier = BarrierAssetOptionSolver(expire=T,S=S,u=u,d=d,K=K,type=\"put\",style=\"american\",R=R,B=B,barrier_type=barrier_type)\n",
    "us_put_barrier.derivative.premium"
   ]
  },
  {
   "cell_type": "markdown",
   "metadata": {},
   "source": [
    "### Question 3"
   ]
  },
  {
   "cell_type": "code",
   "execution_count": 14,
   "metadata": {},
   "outputs": [
    {
     "data": {
      "text/plain": [
       "0.010346611484738748"
      ]
     },
     "execution_count": 14,
     "metadata": {},
     "output_type": "execute_result"
    }
   ],
   "source": [
    "X = 1/96.65\n",
    "X"
   ]
  },
  {
   "cell_type": "code",
   "execution_count": 16,
   "metadata": {},
   "outputs": [],
   "source": [
    "u = 1.06\n",
    "d = 0.94\n",
    "T = 3\n",
    "Rd = 1.08\n",
    "Rf = 1.09\n",
    "k = 0.01080\n",
    "F = 1"
   ]
  },
  {
   "cell_type": "code",
   "execution_count": 18,
   "metadata": {},
   "outputs": [
    {
     "data": {
      "text/plain": [
       "[array([0.01034661]),\n",
       " array([0.00972581, 0.01096741]),\n",
       " array([0.00914227, 0.01030936, 0.01162545]),\n",
       " array([0.00859373, 0.0096908 , 0.01092793, 0.01232298])]"
      ]
     },
     "execution_count": 18,
     "metadata": {},
     "output_type": "execute_result"
    }
   ],
   "source": [
    "eu_call = ForexOptionSolver(expire=T,X=X,F=F,Rf=Rf,Rd=Rd,k=k,u=u,d=d)\n",
    "eu_call.asset.grid"
   ]
  },
  {
   "cell_type": "code",
   "execution_count": 19,
   "metadata": {},
   "outputs": [
    {
     "data": {
      "text/plain": [
       "[array([0.00012337]),\n",
       " array([1.96749514e-05, 2.87790046e-04]),\n",
       " array([0.00000000e+00, 5.01689952e-05, 6.65552903e-04]),\n",
       " array([0.        , 0.        , 0.00012793, 0.00152298])]"
      ]
     },
     "execution_count": 19,
     "metadata": {},
     "output_type": "execute_result"
    }
   ],
   "source": [
    "eu_call.derivative.grid"
   ]
  },
  {
   "cell_type": "code",
   "execution_count": 20,
   "metadata": {},
   "outputs": [
    {
     "data": {
      "text/plain": [
       "[array([0.00070727]),\n",
       " array([0.00109291, 0.000316  ]),\n",
       " array([0.0016126 , 0.00059204, 0.        ]),\n",
       " array([0.00220627, 0.0011092 , 0.        , 0.        ])]"
      ]
     },
     "execution_count": 20,
     "metadata": {},
     "output_type": "execute_result"
    }
   ],
   "source": [
    "eu_put = ForexOptionSolver(expire=T,X=X,F=F,Rf=Rf,Rd=Rd,k=k,u=u,d=d,type=\"put\")\n",
    "eu_put.derivative.grid\n"
   ]
  },
  {
   "cell_type": "code",
   "execution_count": 21,
   "metadata": {},
   "outputs": [
    {
     "data": {
      "text/plain": [
       "np.float64(0.012336518779117442)"
      ]
     },
     "execution_count": 21,
     "metadata": {},
     "output_type": "execute_result"
    }
   ],
   "source": [
    "eu_call.derivative.premium/F*100"
   ]
  },
  {
   "cell_type": "code",
   "execution_count": 22,
   "metadata": {},
   "outputs": [
    {
     "data": {
      "text/plain": [
       "np.float64(0.07072709276836668)"
      ]
     },
     "execution_count": 22,
     "metadata": {},
     "output_type": "execute_result"
    }
   ],
   "source": [
    "eu_put.derivative.premium/F*100"
   ]
  },
  {
   "cell_type": "code",
   "execution_count": 23,
   "metadata": {},
   "outputs": [],
   "source": [
    "F = 50000000"
   ]
  },
  {
   "cell_type": "code",
   "execution_count": 24,
   "metadata": {},
   "outputs": [
    {
     "data": {
      "text/plain": [
       "array([429686.49767201, 484540.0931195 , 546396.27521987, 616148.99120538])"
      ]
     },
     "execution_count": 24,
     "metadata": {},
     "output_type": "execute_result"
    }
   ],
   "source": [
    "eu_put_fv = ForexOptionSolver(expire=T,X=X,F=F,Rf=Rf,Rd=Rd,k=k,u=u,d=d,type=\"put\")\n",
    "eu_put_fv.asset.final"
   ]
  },
  {
   "cell_type": "code",
   "execution_count": 25,
   "metadata": {},
   "outputs": [
    {
     "data": {
      "text/plain": [
       "np.float64(35363.546384183355)"
      ]
     },
     "execution_count": 25,
     "metadata": {},
     "output_type": "execute_result"
    }
   ],
   "source": [
    "eu_put_fv.derivative.premium"
   ]
  },
  {
   "cell_type": "code",
   "execution_count": null,
   "metadata": {},
   "outputs": [],
   "source": []
  }
 ],
 "metadata": {
  "kernelspec": {
   "display_name": ".venv",
   "language": "python",
   "name": "python3"
  },
  "language_info": {
   "codemirror_mode": {
    "name": "ipython",
    "version": 3
   },
   "file_extension": ".py",
   "mimetype": "text/x-python",
   "name": "python",
   "nbconvert_exporter": "python",
   "pygments_lexer": "ipython3",
   "version": "3.11.8"
  }
 },
 "nbformat": 4,
 "nbformat_minor": 2
}
