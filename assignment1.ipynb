{
  "cells": [
    {
      "cell_type": "code",
      "execution_count": 28,
      "metadata": {},
      "outputs": [],
      "source": [
        "from src.AssetOptionSolver import OneStepAssetOptionSolver, AssetOptionSolver\n",
        "from src.models import StatePriceModel, pi_factory, interest_factory, OptionModel"
      ]
    },
    {
      "cell_type": "code",
      "execution_count": 3,
      "metadata": {},
      "outputs": [],
      "source": [
        "K = 27\n",
        "t = 1\n",
        "S_0 = 26\n",
        "S_1 = [24, 30]\n",
        "r = 0.05\n",
        "R = 1 + r"
      ]
    },
    {
      "cell_type": "code",
      "execution_count": 5,
      "metadata": {},
      "outputs": [
        {
          "data": {
            "text/plain": [
              "1.2857142857142854"
            ]
          },
          "execution_count": 5,
          "metadata": {},
          "output_type": "execute_result"
        }
      ],
      "source": [
        "AssetOptionSolver = OneStepAssetOptionSolver(expire=t, asset_states={0: [S_0], 1: S_1}, strike=K, type=\"put\", interest_value=R)\n",
        "AssetOptionSolver.premium"
      ]
    },
    {
      "cell_type": "code",
      "execution_count": 14,
      "metadata": {},
      "outputs": [
        {
          "data": {
            "text/plain": [
              "8.22373393801965"
            ]
          },
          "execution_count": 14,
          "metadata": {},
          "output_type": "execute_result"
        }
      ],
      "source": [
        "AssetOptionSolver = AssetOptionSolver(\n",
        "    expire=2, S=80, u=1.1, d=0.95, strike=80, style=\"american\", type=\"call\", pi_value=2 / 3, interest_value=1.05\n",
        ")\n",
        "AssetOptionSolver.premium"
      ]
    },
    {
      "cell_type": "code",
      "execution_count": 15,
      "metadata": {},
      "outputs": [
        {
          "data": {
            "text/plain": [
              "8.22373393801965"
            ]
          },
          "execution_count": 15,
          "metadata": {},
          "output_type": "execute_result"
        }
      ],
      "source": [
        "AssetOptionSolver = AssetOptionSolver(\n",
        "    expire=2, S=10, u=1.2, d=1 / 1.2, strike=11, style=\"european\", type=\"call\", pi_value=2 / 3, interest_value=1.05\n",
        ")\n",
        "AssetOptionSolver.premium"
      ]
    },
    {
      "cell_type": "code",
      "execution_count": 21,
      "metadata": {},
      "outputs": [
        {
          "name": "stdout",
          "output_type": "stream",
          "text": [
            "american Call premium:  1.0754604712241607\n",
            "american Put premium:  1.6120663797913437\n",
            "european Call premium:  1.0754604712241607\n",
            "european Put premium:  1.4154225516009058\n"
          ]
        }
      ],
      "source": [
        "K = 11\n",
        "S = 10\n",
        "u = 1.2\n",
        "d = 1 / u\n",
        "R = {0: [1.02], 1: [1.03, 1.01], 2: [1.05, 1.02, 1.005]}\n",
        "expire = 3\n",
        "\n",
        "style = \"american\"\n",
        "american_call_AssetOptionSolver = AssetOptionSolver(expire=expire, S=S, u=u, d=d, strike=K, type=\"call\", style=style, interest_states=R)\n",
        "print(\"american Call premium: \", american_call_AssetOptionSolver.premium)\n",
        "american_put_AssetOptionSolver = AssetOptionSolver(expire=expire, S=S, u=u, d=d, strike=K, type=\"put\", style=style, interest_states=R)\n",
        "print(\"american Put premium: \", american_put_AssetOptionSolver.premium)\n",
        "\n",
        "style = \"european\"\n",
        "european_call_AssetOptionSolver = AssetOptionSolver(expire=expire, S=S, u=u, d=d, strike=K, type=\"call\", style=style, interest_states=R)\n",
        "print(\"european Call premium: \", european_call_AssetOptionSolver.premium)\n",
        "european_put_AssetOptionSolver = AssetOptionSolver(expire=expire, S=S, u=u, d=d, strike=K, type=\"put\", style=style, interest_states=R)\n",
        "print(\"european Put premium: \", european_put_AssetOptionSolver.premium)"
      ]
    },
    {
      "cell_type": "code",
      "execution_count": 22,
      "metadata": {},
      "outputs": [
        {
          "data": {
            "text/plain": [
              "[[1.0754604712241607],\n",
              " [0.25990657837394754, 1.9041376721278163],\n",
              " [0, 0.49910873440285175, 3.454726368159202],\n",
              " [0, 0, 1.0, 6.279999999999998]]"
            ]
          },
          "execution_count": 22,
          "metadata": {},
          "output_type": "execute_result"
        }
      ],
      "source": [
        "american_call_AssetOptionSolver.derivative.grid"
      ]
    },
    {
      "cell_type": "code",
      "execution_count": 23,
      "metadata": {},
      "outputs": [
        {
          "data": {
            "text/plain": [
              "[[1.0754604712241607],\n",
              " [0.25990657837394754, 1.9041376721278163],\n",
              " [0.0, 0.49910873440285175, 3.454726368159202],\n",
              " [0, 0, 1.0, 6.279999999999998]]"
            ]
          },
          "execution_count": 23,
          "metadata": {},
          "output_type": "execute_result"
        }
      ],
      "source": [
        "european_call_AssetOptionSolver.derivative.grid"
      ]
    },
    {
      "cell_type": "code",
      "execution_count": 24,
      "metadata": {},
      "outputs": [
        {
          "data": {
            "text/plain": [
              "[[1.6120663797913437],\n",
              " [2.666666666666666, 0.6584615680819417],\n",
              " [4.0555555555555545, 1.2834224598930486, 0],\n",
              " [5.212962962962962, 2.666666666666666, 0, 0]]"
            ]
          },
          "execution_count": 24,
          "metadata": {},
          "output_type": "execute_result"
        }
      ],
      "source": [
        "american_put_AssetOptionSolver.derivative.grid"
      ]
    },
    {
      "cell_type": "code",
      "execution_count": 25,
      "metadata": {},
      "outputs": [
        {
          "data": {
            "text/plain": [
              "[[1.4154225516009058],\n",
              " [2.258084490315423, 0.6584615680819417],\n",
              " [3.5317460317460303, 1.2834224598930486, 0.0],\n",
              " [5.212962962962962, 2.666666666666666, 0, 0]]"
            ]
          },
          "execution_count": 25,
          "metadata": {},
          "output_type": "execute_result"
        }
      ],
      "source": [
        "european_put_AssetOptionSolver.derivative.grid"
      ]
    },
    {
      "cell_type": "code",
      "execution_count": 41,
      "metadata": {},
      "outputs": [
        {
          "data": {
            "text/plain": [
              "2.639268545574512"
            ]
          },
          "execution_count": 41,
          "metadata": {},
          "output_type": "execute_result"
        }
      ],
      "source": [
        "C = [0, 2, 4]\n",
        "R = 1.03\n",
        "pi = 0.7\n",
        "expire = 2\n",
        "style = \"american\"\n",
        "type = \"call\"\n",
        "\n",
        "state_price = StatePriceModel(pi=pi_factory(value=pi), R=interest_factory(value=R), steps=expire)\n",
        "sum(i * j for i, j in zip(state_price[expire], C))"
      ]
    },
    {
      "cell_type": "code",
      "execution_count": 36,
      "metadata": {},
      "outputs": [],
      "source": [
        "S = 10\n",
        "u = 1.1\n",
        "d = 0.95\n",
        "K = 10.5\n",
        "expire = 2\n",
        "R = 1.05\n",
        "pi = 2 / 3\n",
        "\n",
        "american_put = AssetOptionSolver(\n",
        "    expire=expire, S=S, u=u, d=d, strike=K, type=\"put\", style=\"american\", interest_value=R, pi_value=pi\n",
        ")\n",
        "\n",
        "european_put = AssetOptionSolver(\n",
        "    expire=expire, S=S, u=u, d=d, strike=K, type=\"put\", style=\"european\", interest_value=R, pi_value=pi\n",
        ")"
      ]
    },
    {
      "cell_type": "code",
      "execution_count": 37,
      "metadata": {},
      "outputs": [
        {
          "data": {
            "text/plain": [
              "[[0.5],\n",
              " [1.0, 0.0158730158730161],\n",
              " [1.4749999999999996, 0.05000000000000071, 0]]"
            ]
          },
          "execution_count": 37,
          "metadata": {},
          "output_type": "execute_result"
        }
      ],
      "source": [
        "american_put.derivative.grid"
      ]
    },
    {
      "cell_type": "code",
      "execution_count": 38,
      "metadata": {},
      "outputs": [
        {
          "data": {
            "text/plain": [
              "[[0.16880826404635957],\n",
              " [0.5000000000000003, 0.0158730158730161],\n",
              " [1.4749999999999996, 0.05000000000000071, 0]]"
            ]
          },
          "execution_count": 38,
          "metadata": {},
          "output_type": "execute_result"
        }
      ],
      "source": [
        "european_put.derivative.grid"
      ]
    },
    {
      "cell_type": "code",
      "execution_count": 50,
      "metadata": {},
      "outputs": [
        {
          "data": {
            "text/plain": [
              "1.0114678899082556"
            ]
          },
          "execution_count": 50,
          "metadata": {},
          "output_type": "execute_result"
        }
      ],
      "source": [
        "type = \"put\"\n",
        "style = \"american\"\n",
        "S = 21\n",
        "u = 1.3\n",
        "d = 0.9\n",
        "K = 21\n",
        "expire = 3\n",
        "R = 1.09\n",
        "AssetOptionSolver = AssetOptionSolver(expire=expire,type=type,style=style, S= S, u=u,d=d,strike=K, interest_value=R)\n",
        "AssetOptionSolver.premium\n"
      ]
    },
    {
      "cell_type": "code",
      "execution_count": 51,
      "metadata": {},
      "outputs": [
        {
          "data": {
            "text/plain": [
              "3.7578419182289893"
            ]
          },
          "execution_count": 51,
          "metadata": {},
          "output_type": "execute_result"
        }
      ],
      "source": [
        "type = \"put\"\n",
        "style = \"american\"\n",
        "K = 32\n",
        "expire = 2\n",
        "S = 31\n",
        "u = 1.3\n",
        "d = 1/u\n",
        "R = {0: [1.06], 1: [1.07, 1.01]}\n",
        "AssetOptionSolver = AssetOptionSolver(expire=expire,type=type,style=style, S= S, u=u,d=d,strike=K, interest_states=R)\n",
        "AssetOptionSolver.premium"
      ]
    },
    {
      "cell_type": "code",
      "execution_count": 57,
      "metadata": {},
      "outputs": [
        {
          "data": {
            "text/plain": [
              "0.5470378955205085"
            ]
          },
          "execution_count": 57,
          "metadata": {},
          "output_type": "execute_result"
        }
      ],
      "source": [
        "import math \n",
        "r_yr = 6/100\n",
        "sigma_yr = 15/100\n",
        "r_month = r_yr/12 \n",
        "sigma_month = sigma_yr/math.sqrt(12)\n",
        "R = math.exp(r_month)\n",
        "u = math.exp(sigma_month)\n",
        "d = math.exp(-sigma_month)\n",
        "pi = (R-d)/(u-d)\n",
        "pi"
      ]
    },
    {
      "cell_type": "code",
      "execution_count": 58,
      "metadata": {},
      "outputs": [
        {
          "data": {
            "text/plain": [
              "0.5470378955205085"
            ]
          },
          "execution_count": 58,
          "metadata": {},
          "output_type": "execute_result"
        }
      ],
      "source": [
        "import math\n",
        "\n",
        "# Given parameters\n",
        "r = 0.06         # Annual interest rate\n",
        "sigma = 0.15      # Annual volatility\n",
        "delta_t = 1/12    # Time step (1 month)\n",
        "\n",
        "# Calculate up factor u and down factor d\n",
        "u = math.exp(sigma * math.sqrt(delta_t))\n",
        "d = 1/u\n",
        "\n",
        "# Calculate the risk-neutral probability p\n",
        "p = (math.exp(r * delta_t) - d) / (u - d)\n",
        "\n",
        "p\n"
      ]
    },
    {
      "cell_type": "code",
      "execution_count": null,
      "metadata": {},
      "outputs": [],
      "source": []
    }
  ],
  "metadata": {
    "kernelspec": {
      "display_name": ".venv",
      "language": "python",
      "name": "python3"
    },
    "language_info": {
      "codemirror_mode": {
        "name": "ipython",
        "version": 3
      },
      "file_extension": ".py",
      "mimetype": "text/x-python",
      "name": "python",
      "nbconvert_exporter": "python",
      "pygments_lexer": "ipython3",
      "version": "3.11.8"
    }
  },
  "nbformat": 4,
  "nbformat_minor": 2
}
